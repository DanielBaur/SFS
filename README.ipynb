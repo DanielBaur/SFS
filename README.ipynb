{
 "cells": [
  {
   "cell_type": "markdown",
   "metadata": {},
   "source": [
    "<h1><center> Signal Formation Simulation: README </center></h1>"
   ]
  },
  {
   "cell_type": "markdown",
   "metadata": {},
   "source": [
    "\n"
   ]
  },
  {
   "cell_type": "markdown",
   "metadata": {},
   "source": [
    "This jupyter notebook is used to format the README.md file for the Signal Formation Simulation Project. Just modify the cell below and replace the contents of the README.md file with it.<br>\n",
    "<br>\n",
    "<br>\n",
    "<br>\n",
    "<br>\n",
    "<br>\n",
    "<br>"
   ]
  },
  {
   "cell_type": "markdown",
   "metadata": {},
   "source": [
    "\n",
    "<h1><center> Signal Formation Simulation </center></h1>\n",
    "<br>\n",
    "<br>\n",
    "<br>\n",
    "\n",
    "Last Modified: By Daniel Baur on 13th February 2020\n",
    "\n",
    "Signal Formation Simulation (SFS) is a Python (Python3) script meant process (arbitrary/MC/WIMP/etc...) recoil spectra (i.e. either generated manually or via MC simulations) into the S1/S2 signature within a LXe TPC detector such as DARWIN (in PE/phd) utilizing NEST (NESTv2.0.1). It consists of three main components:\n",
    "* Master Signal Formation (MSF.py): coordinate the SF instance\n",
    "* Signal Formation (SF.py): main code, process specified spectra within a specified detector using NEST\n",
    "* Process Signal Formation (PSF.ipynb): analyse the data generated with SF\n",
    "<br>\n",
    "<br>\n",
    "\n",
    "### Table of Contents\n",
    "\n",
    "0. **[Setup](#0.-Setup)**<br>\n",
    "    0.1 [NEST](#0.1-NEST)<br>\n",
    "    0.2 [SFS](#0.2-SFS)\n",
    "\n",
    "\n",
    "1. **[Introduction](#1.-Introduction)**<br>\n",
    "\n",
    "\n",
    "2. **[Usage](#2.-Usage)**<br>\n",
    "    2.1 [Detector Modification](#2.1-Detector-Modification)<br>\n",
    "    2.2 [Spectra Generation](#2.2-Spectra-Generation)<br>\n",
    "    2.3 [Processing](#2.3-Processing)\n",
    "\n",
    "\n",
    "3. **[Troubleshooting](#3.-Troubleshooting)**<br>\n",
    "\n",
    "<br>\n",
    "<br>\n",
    "<br>\n",
    "\n",
    "# 0. Setup\n",
    "\n",
    "The following sections are meant to provide documentation on how to set up both NEST and also the SFS wrapper.\n",
    "\n",
    "<br>\n",
    "\n",
    "## 0.1 NEST\n",
    "\n",
    "NEST (Noble Element Simulation Technique) is a simulation tool for scintillation, ionization and electroluminescence processes. Its main applications are various simulation capabilities for experimental dark matter searches. The working principle is based on parameterizing expressions for physical quantities (e.g. charge yield, relative scintillation efficiency, etcg.) based on current experimental results. The code is written in C++ and maintained by the NEST collaboration (see: [--> the official NEST website <--](http://nest.physics.ucdavis.edu/)). SFS is essentially a framework so NEST can be used to automatically process arbitrary recoil spectra.\n",
    "\n",
    "For the installation check out [--> the NEST repository on GitHub <--](https://github.com/NESTCollaboration/nest) along with [--> the documentation on GitHub <--](https://github.com/NESTCollaboration/nest/blob/master/README.md).\n",
    "\n",
    "1. First create a new directory and within that git clone the repository:<br>`$ git clone https://personal_username@github.com/NESTCollaboration/nest.git`\n",
    "\n",
    "2. Then create the `build` and `install` directories - but make sure they are on the same level as the `nest` directory. I.e. from within the git cloned `nest` directory execute:<br>`$ mkdir ../build; mkdir ../install; cd ../build`\n",
    "\n",
    "3. From within the 'build' directory configure cmake:<br>`$ cmake -DCMAKE_INSTALL_PREFIX=./../install ../nest`\n",
    "\n",
    "4. And finally execute the following within the build directory:<br>`$ make; make install`\n",
    "\n",
    "<br>\n",
    "\n",
    "## 0.2 SFS\n",
    "\n",
    "Download the program from [--> the SFS GitHub repository <--](https://github.com/DanielBaur/SFS) by executing\n",
    "\n",
    "`$ git clone https://github.com/DanielBaur/SFS.git`\n",
    "\n",
    "within your target folder. All you still need to do is to enter the path to your instance of the `testNEST` executable in `SF.py`. The `testNEST` executable should be in the `install` folder within your instance of NEST; i.e. change the following line in `SF.py`\n",
    "\n",
    "`# ---> Insert the path to your testNEST executable here! <---\n",
    "path_testnest = \"/scratch/db1086/NEST2/install/\"`\n",
    "\n",
    "<br>\n",
    "<br>\n",
    "<br>\n",
    "<br>\n",
    "\n",
    "# 1. Introduction\n",
    "\n",
    "<br>\n",
    "<br>\n",
    "<br>\n",
    "<br>\n",
    "\n",
    "# 2. Usage\n",
    "\n",
    "Execute the `SF.py` file by\n",
    "\n",
    "`$ Python3 SF.py -d <detectorname> -s <spectrumname>` .\n",
    "\n",
    "The detector specified by `<detectorname>` (in the `input_detecotrs` folder) is implemented in NEST and afterwards the spectrum specified by `<spectrumname>` (in the `input_spectra`) is forwarded and processed by NEST. The output is stored in the `output_sf` folder.\n",
    "\n",
    "<br>\n",
    "\n",
    "## 2.1 Detector Modification\n",
    "\n",
    "In NEST a detector is specified by modifying the `Detector.hh` and implementing it into the NEST source code. The `SF.py` code does that automatically: In the `input_detectors` folder just generate a new detector file from the `detector_template.txt` file, edit the parameters therein and forward its (altered and unique (!)) name to the `SF.py` call (see above) as the `<detectorname>` flag.\n",
    "\n",
    "<br>\n",
    "\n",
    "## 2.2 Spectra Generation\n",
    "\n",
    "Processing some arbitrary spectrum with NEST.\n",
    "\n",
    "<br>\n",
    "\n",
    "## 2.3 Processing\n",
    "\n",
    "<br>\n",
    "<br>\n",
    "<br>\n",
    "<br>\n",
    "\n",
    "# 3. Troubleshooting\n",
    "\n",
    "Please note that the SFS script was neither conceptualized specifically for the DARWIN collaboration nor the broad public. It was developed for my personal work in the context of my Ph.D. studies. Accordingly all credit should be adressed directly towards the NEST collaboration (please also note the appropriate citation on [--> the documentation on GitHub <--](https://github.com/NESTCollaboration/nest/blob/master/README.md)). Also I cannot guarantee a fully functional program in any way, shape or form. For bug reports, general questions or other suggestions please contact me directly via email: <daniel.baur@physik.uni-freiburg.de>.\n"
   ]
  },
  {
   "cell_type": "markdown",
   "metadata": {},
   "source": [
    "\n"
   ]
  },
  {
   "cell_type": "markdown",
   "metadata": {},
   "source": [
    "\n"
   ]
  }
 ],
 "metadata": {
  "kernelspec": {
   "display_name": "Python 3",
   "language": "python",
   "name": "python3"
  },
  "language_info": {
   "codemirror_mode": {
    "name": "ipython",
    "version": 3
   },
   "file_extension": ".py",
   "mimetype": "text/x-python",
   "name": "python",
   "nbconvert_exporter": "python",
   "pygments_lexer": "ipython3",
   "version": "3.6.9"
  }
 },
 "nbformat": 4,
 "nbformat_minor": 2
}
